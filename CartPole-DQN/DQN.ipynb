{
 "cells": [
  {
   "cell_type": "code",
   "execution_count": 1,
   "metadata": {},
   "outputs": [
    {
     "name": "stderr",
     "output_type": "stream",
     "text": [
      "  0%|          | 0/5 [00:00<?, ?it/s]"
     ]
    },
    {
     "name": "stdout",
     "output_type": "stream",
     "text": [
      "Episode: 0\n",
      "The test reward for episode 0 is 9.45 with a standard deviation of 0.8046738469715539.\n",
      "Episode: 10\n",
      "The test reward for episode 10 is 13.35 with a standard deviation of 7.850318464877714.\n",
      "Episode: 20\n",
      "The test reward for episode 20 is 9.6 with a standard deviation of 0.7348469228349533.\n",
      "Episode: 30\n",
      "The test reward for episode 30 is 9.25 with a standard deviation of 0.698212002188447.\n",
      "Episode: 40\n",
      "The test reward for episode 40 is 9.1 with a standard deviation of 0.6244997998398398.\n",
      "Episode: 50\n",
      "The test reward for episode 50 is 9.4 with a standard deviation of 0.8602325267042626.\n",
      "Episode: 60\n",
      "The test reward for episode 60 is 9.1 with a standard deviation of 0.8888194417315588.\n",
      "Episode: 70\n",
      "The test reward for episode 70 is 9.3 with a standard deviation of 0.7810249675906654.\n",
      "Episode: 80\n",
      "The test reward for episode 80 is 9.85 with a standard deviation of 1.0136567466356647.\n",
      "Episode: 90\n",
      "The test reward for episode 90 is 44.65 with a standard deviation of 11.705874593553443.\n",
      "Episode: 100\n",
      "The test reward for episode 100 is 29.2 with a standard deviation of 5.979966555090422.\n",
      "Episode: 110\n",
      "The test reward for episode 110 is 55.6 with a standard deviation of 39.30954082662376.\n",
      "Episode: 120\n",
      "The test reward for episode 120 is 69.6 with a standard deviation of 29.103951621729998.\n",
      "Episode: 130\n",
      "The test reward for episode 130 is 107.55 with a standard deviation of 35.305063376235424.\n",
      "Episode: 140\n",
      "The test reward for episode 140 is 144.55 with a standard deviation of 29.550761411510194.\n",
      "Episode: 150\n",
      "The test reward for episode 150 is 195.0 with a standard deviation of 92.0043477233549.\n",
      "Episode: 160\n",
      "The test reward for episode 160 is 152.95 with a standard deviation of 25.80402100448688.\n",
      "Episode: 170\n",
      "The test reward for episode 170 is 185.95 with a standard deviation of 55.537802441220165.\n",
      "Episode: 180\n",
      "The test reward for episode 180 is 178.65 with a standard deviation of 49.67220047471221.\n",
      "Episode: 190\n",
      "The test reward for episode 190 is 157.45 with a standard deviation of 29.074860274814736.\n"
     ]
    },
    {
     "name": "stderr",
     "output_type": "stream",
     "text": [
      " 20%|██        | 1/5 [00:23<01:35, 23.80s/it]"
     ]
    },
    {
     "name": "stdout",
     "output_type": "stream",
     "text": [
      "Episode: 0\n",
      "The test reward for episode 0 is 9.2 with a standard deviation of 0.7483314773547882.\n",
      "Episode: 10\n",
      "The test reward for episode 10 is 8.95 with a standard deviation of 0.8046738469715541.\n",
      "Episode: 20\n",
      "The test reward for episode 20 is 9.35 with a standard deviation of 0.852936105461599.\n",
      "Episode: 30\n",
      "The test reward for episode 30 is 9.6 with a standard deviation of 0.8.\n",
      "Episode: 40\n",
      "The test reward for episode 40 is 9.25 with a standard deviation of 0.8874119674649424.\n",
      "Episode: 50\n",
      "The test reward for episode 50 is 11.0 with a standard deviation of 1.0488088481701516.\n",
      "Episode: 60\n",
      "The test reward for episode 60 is 12.1 with a standard deviation of 1.6401219466856725.\n",
      "Episode: 70\n",
      "The test reward for episode 70 is 20.1 with a standard deviation of 2.233830790368868.\n",
      "Episode: 80\n",
      "The test reward for episode 80 is 29.3 with a standard deviation of 3.3481338085566414.\n",
      "Episode: 90\n",
      "The test reward for episode 90 is 71.15 with a standard deviation of 16.190352065350524.\n",
      "Episode: 100\n",
      "The test reward for episode 100 is 56.9 with a standard deviation of 22.631615055050755.\n",
      "Episode: 110\n",
      "The test reward for episode 110 is 53.8 with a standard deviation of 9.276852914647293.\n",
      "Episode: 120\n",
      "The test reward for episode 120 is 280.15 with a standard deviation of 13.832118420545712.\n",
      "Episode: 130\n",
      "The test reward for episode 130 is 330.45 with a standard deviation of 104.43585351784128.\n",
      "Episode: 140\n",
      "The test reward for episode 140 is 291.65 with a standard deviation of 57.13166810097531.\n",
      "Episode: 150\n",
      "The test reward for episode 150 is 274.15 with a standard deviation of 79.31095447666735.\n",
      "Episode: 160\n",
      "The test reward for episode 160 is 260.5 with a standard deviation of 81.37843694738797.\n",
      "Episode: 170\n",
      "The test reward for episode 170 is 230.15 with a standard deviation of 44.581694673935395.\n",
      "Episode: 180\n",
      "The test reward for episode 180 is 177.15 with a standard deviation of 42.35832267689551.\n",
      "Episode: 190\n",
      "The test reward for episode 190 is 191.75 with a standard deviation of 47.75026177938714.\n"
     ]
    },
    {
     "name": "stderr",
     "output_type": "stream",
     "text": [
      " 40%|████      | 2/5 [01:04<01:41, 33.67s/it]"
     ]
    },
    {
     "name": "stdout",
     "output_type": "stream",
     "text": [
      "Episode: 0\n",
      "The test reward for episode 0 is 9.45 with a standard deviation of 0.49749371855331004.\n",
      "Episode: 10\n",
      "The test reward for episode 10 is 9.6 with a standard deviation of 0.7348469228349535.\n",
      "Episode: 20\n",
      "The test reward for episode 20 is 9.7 with a standard deviation of 0.6403124237432849.\n",
      "Episode: 30\n",
      "The test reward for episode 30 is 9.0 with a standard deviation of 0.6324555320336759.\n",
      "Episode: 40\n",
      "The test reward for episode 40 is 9.4 with a standard deviation of 0.66332495807108.\n",
      "Episode: 50\n",
      "The test reward for episode 50 is 9.65 with a standard deviation of 0.8529361054615991.\n",
      "Episode: 60\n",
      "The test reward for episode 60 is 9.25 with a standard deviation of 0.7664854858377946.\n",
      "Episode: 70\n",
      "The test reward for episode 70 is 9.6 with a standard deviation of 0.7348469228349535.\n",
      "Episode: 80\n",
      "The test reward for episode 80 is 9.75 with a standard deviation of 0.6224949798994366.\n",
      "Episode: 90\n",
      "The test reward for episode 90 is 9.3 with a standard deviation of 0.8426149773176358.\n",
      "Episode: 100\n",
      "The test reward for episode 100 is 32.65 with a standard deviation of 5.208406666150408.\n",
      "Episode: 110\n",
      "The test reward for episode 110 is 173.2 with a standard deviation of 115.44894975702464.\n",
      "Episode: 120\n",
      "The test reward for episode 120 is 292.0 with a standard deviation of 91.88797527424359.\n",
      "Episode: 130\n",
      "The test reward for episode 130 is 318.1 with a standard deviation of 89.77689012212441.\n",
      "Episode: 140\n",
      "The test reward for episode 140 is 261.15 with a standard deviation of 44.29026416719593.\n",
      "Episode: 150\n",
      "The test reward for episode 150 is 281.2 with a standard deviation of 73.0647657903589.\n",
      "Episode: 160\n",
      "The test reward for episode 160 is 296.4 with a standard deviation of 86.60277131824361.\n",
      "Episode: 170\n",
      "The test reward for episode 170 is 275.85 with a standard deviation of 79.50363199250711.\n",
      "Episode: 180\n",
      "The test reward for episode 180 is 475.2 with a standard deviation of 55.68985544962386.\n",
      "Episode: 190\n",
      "The test reward for episode 190 is 132.2 with a standard deviation of 22.229709849658406.\n"
     ]
    },
    {
     "name": "stderr",
     "output_type": "stream",
     "text": [
      " 60%|██████    | 3/5 [01:46<01:14, 37.35s/it]"
     ]
    },
    {
     "name": "stdout",
     "output_type": "stream",
     "text": [
      "Episode: 0\n",
      "The test reward for episode 0 is 9.35 with a standard deviation of 0.8529361054615991.\n",
      "Episode: 10\n",
      "The test reward for episode 10 is 9.15 with a standard deviation of 0.7262919523166976.\n",
      "Episode: 20\n",
      "The test reward for episode 20 is 9.55 with a standard deviation of 0.6689544080129824.\n",
      "Episode: 30\n",
      "The test reward for episode 30 is 10.7 with a standard deviation of 1.004987562112089.\n",
      "Episode: 40\n",
      "The test reward for episode 40 is 9.35 with a standard deviation of 0.5722761571129799.\n",
      "Episode: 50\n",
      "The test reward for episode 50 is 8.95 with a standard deviation of 0.8046738469715541.\n",
      "Episode: 60\n",
      "The test reward for episode 60 is 9.45 with a standard deviation of 0.6689544080129826.\n",
      "Episode: 70\n",
      "The test reward for episode 70 is 9.25 with a standard deviation of 0.82915619758885.\n",
      "Episode: 80\n",
      "The test reward for episode 80 is 9.6 with a standard deviation of 0.58309518948453.\n",
      "Episode: 90\n",
      "The test reward for episode 90 is 9.45 with a standard deviation of 0.739932429347437.\n",
      "Episode: 100\n",
      "The test reward for episode 100 is 9.5 with a standard deviation of 0.5916079783099616.\n",
      "Episode: 110\n",
      "The test reward for episode 110 is 20.4 with a standard deviation of 2.7092434368288134.\n",
      "Episode: 120\n",
      "The test reward for episode 120 is 54.1 with a standard deviation of 10.990450400233831.\n",
      "Episode: 130\n",
      "The test reward for episode 130 is 161.05 with a standard deviation of 135.24513854479204.\n",
      "Episode: 140\n",
      "The test reward for episode 140 is 120.75 with a standard deviation of 32.151010870577615.\n",
      "Episode: 150\n",
      "The test reward for episode 150 is 174.75 with a standard deviation of 63.46642813330525.\n",
      "Episode: 160\n",
      "The test reward for episode 160 is 229.25 with a standard deviation of 73.08000752599851.\n",
      "Episode: 170\n",
      "The test reward for episode 170 is 280.6 with a standard deviation of 82.28025279494466.\n",
      "Episode: 180\n",
      "The test reward for episode 180 is 263.5 with a standard deviation of 114.4331682686449.\n",
      "Episode: 190\n",
      "The test reward for episode 190 is 266.6 with a standard deviation of 124.13476547688002.\n"
     ]
    },
    {
     "name": "stderr",
     "output_type": "stream",
     "text": [
      " 80%|████████  | 4/5 [02:13<00:33, 33.61s/it]"
     ]
    },
    {
     "name": "stdout",
     "output_type": "stream",
     "text": [
      "Episode: 0\n",
      "The test reward for episode 0 is 9.2 with a standard deviation of 0.6000000000000001.\n",
      "Episode: 10\n",
      "The test reward for episode 10 is 9.25 with a standard deviation of 0.6224949798994366.\n",
      "Episode: 20\n",
      "The test reward for episode 20 is 9.4 with a standard deviation of 0.4898979485566356.\n",
      "Episode: 30\n",
      "The test reward for episode 30 is 9.5 with a standard deviation of 0.6708203932499369.\n",
      "Episode: 40\n",
      "The test reward for episode 40 is 9.4 with a standard deviation of 0.7348469228349535.\n",
      "Episode: 50\n",
      "The test reward for episode 50 is 9.15 with a standard deviation of 0.7262919523166976.\n",
      "Episode: 60\n",
      "The test reward for episode 60 is 9.45 with a standard deviation of 0.8046738469715539.\n",
      "Episode: 70\n",
      "The test reward for episode 70 is 9.55 with a standard deviation of 0.739932429347437.\n",
      "Episode: 80\n",
      "The test reward for episode 80 is 9.4 with a standard deviation of 0.5830951894845301.\n",
      "Episode: 90\n",
      "The test reward for episode 90 is 20.65 with a standard deviation of 3.811495769379785.\n",
      "Episode: 100\n",
      "The test reward for episode 100 is 44.05 with a standard deviation of 24.940880096740774.\n",
      "Episode: 110\n",
      "The test reward for episode 110 is 46.35 with a standard deviation of 23.275040279234748.\n",
      "Episode: 120\n",
      "The test reward for episode 120 is 79.25 with a standard deviation of 27.71439156828091.\n",
      "Episode: 130\n",
      "The test reward for episode 130 is 325.7 with a standard deviation of 113.57821093854227.\n",
      "Episode: 140\n",
      "The test reward for episode 140 is 151.95 with a standard deviation of 15.803401532581521.\n",
      "Episode: 150\n",
      "The test reward for episode 150 is 151.4 with a standard deviation of 23.831491770344545.\n",
      "Episode: 160\n",
      "The test reward for episode 160 is 172.5 with a standard deviation of 31.249799999359997.\n",
      "Episode: 170\n",
      "The test reward for episode 170 is 214.05 with a standard deviation of 34.84031429249742.\n",
      "Episode: 180\n",
      "The test reward for episode 180 is 281.65 with a standard deviation of 93.6382800995405.\n",
      "Episode: 190\n",
      "The test reward for episode 190 is 255.5 with a standard deviation of 46.507526272636774.\n"
     ]
    },
    {
     "name": "stderr",
     "output_type": "stream",
     "text": [
      "100%|██████████| 5/5 [02:42<00:00, 32.56s/it]\n"
     ]
    },
    {
     "data": {
      "text/plain": [
       "Text(0, 0.5, 'Avg. Return')"
      ]
     },
     "execution_count": 1,
     "metadata": {},
     "output_type": "execute_result"
    },
    {
     "data": {
      "image/png": "[encoded data removed]",
      "text/plain": [
       "<Figure size 640x480 with 1 Axes>"
      ]
     },
     "metadata": {},
     "output_type": "display_data"
    }
   ],
   "source": [
    "import numpy as np\n",
    "import gymnasium as gym\n",
    "import tqdm\n",
    "import matplotlib.pyplot as plt\n",
    "from DQN import DQNAgent\n",
    "\n",
    "env_name = 'CartPole-v1'\n",
    "num_episodes_train = 200\n",
    "num_episodes_test = 20\n",
    "learning_rate = 5e-4\n",
    "\n",
    "env = gym.make(env_name)\n",
    "action_space_size = env.action_space.n\n",
    "state_space_size = 4\n",
    "\n",
    "num_seeds = 5\n",
    "l = num_episodes_train // 10\n",
    "res = np.zeros((num_seeds, l))\n",
    "gamma = 0.99\n",
    "\n",
    "for i in tqdm.tqdm(range(num_seeds)):\n",
    "    reward_means = []\n",
    "    agent = DQNAgent(env_name, lr=learning_rate)\n",
    "\n",
    "    for m in range(num_episodes_train):\n",
    "        agent.train()\n",
    "        if m % 10 == 0:\n",
    "            print(\"Episode: {}\".format(m))\n",
    "\n",
    "            G = np.zeros(num_episodes_test)\n",
    "            for k in range(num_episodes_test):\n",
    "                g = agent.test()\n",
    "                G[k] = g\n",
    "\n",
    "            reward_mean = G.mean()\n",
    "            reward_sd = G.std()\n",
    "            print(f\"The test reward for episode {m} is {reward_mean} with a standard deviation of {reward_sd}.\")\n",
    "            reward_means.append(reward_mean)\n",
    "\n",
    "    res[i] = np.array(reward_means)\n",
    "\n",
    "ks = np.arange(l) * 10\n",
    "avs = np.mean(res, axis=0)\n",
    "maxs = np.max(res, axis=0)\n",
    "mins = np.min(res, axis=0)\n",
    "\n",
    "plt.fill_between(ks, mins, maxs, alpha=0.1)\n",
    "plt.plot(ks, avs, '-o', markersize=1)\n",
    "\n",
    "plt.xlabel('Episode', fontsize=15)\n",
    "plt.ylabel('Avg. Return', fontsize=15)"
   ]
  },
  {
   "cell_type": "code",
   "execution_count": null,
   "metadata": {},
   "outputs": [],
   "source": []
  }
 ],
 "metadata": {
  "kernelspec": {
   "display_name": "Global",
   "language": "python",
   "name": "python3"
  },
  "language_info": {
   "codemirror_mode": {
    "name": "ipython",
    "version": 3
   },
   "file_extension": ".py",
   "mimetype": "text/x-python",
   "name": "python",
   "nbconvert_exporter": "python",
   "pygments_lexer": "ipython3",
   "version": "3.12.4"
  }
 },
 "nbformat": 4,
 "nbformat_minor": 2
}
